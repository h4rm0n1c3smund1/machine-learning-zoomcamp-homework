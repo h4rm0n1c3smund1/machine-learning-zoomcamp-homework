{
 "cells": [
  {
   "metadata": {
    "ExecuteTime": {
     "end_time": "2025-09-20T17:03:55.826601Z",
     "start_time": "2025-09-20T17:03:55.645694Z"
    }
   },
   "cell_type": "code",
   "source": [
    "import numpy as np\n",
    "import pandas as pd\n",
    "import wget"
   ],
   "id": "94f9be0e0012a198",
   "outputs": [
    {
     "ename": "ModuleNotFoundError",
     "evalue": "No module named 'numpy'",
     "output_type": "error",
     "traceback": [
      "\u001B[31m---------------------------------------------------------------------------\u001B[39m",
      "\u001B[31mModuleNotFoundError\u001B[39m                       Traceback (most recent call last)",
      "\u001B[36mCell\u001B[39m\u001B[36m \u001B[39m\u001B[32mIn[9]\u001B[39m\u001B[32m, line 1\u001B[39m\n\u001B[32m----> \u001B[39m\u001B[32m1\u001B[39m \u001B[38;5;28;01mimport\u001B[39;00m\u001B[38;5;250m \u001B[39m\u001B[34;01mnumpy\u001B[39;00m\u001B[38;5;250m \u001B[39m\u001B[38;5;28;01mas\u001B[39;00m\u001B[38;5;250m \u001B[39m\u001B[34;01mnp\u001B[39;00m\n\u001B[32m      2\u001B[39m \u001B[38;5;28;01mimport\u001B[39;00m\u001B[38;5;250m \u001B[39m\u001B[34;01mpandas\u001B[39;00m\u001B[38;5;250m \u001B[39m\u001B[38;5;28;01mas\u001B[39;00m\u001B[38;5;250m \u001B[39m\u001B[34;01mpd\u001B[39;00m\n\u001B[32m      3\u001B[39m \u001B[38;5;28;01mimport\u001B[39;00m\u001B[38;5;250m \u001B[39m\u001B[34;01mwget\u001B[39;00m\n",
      "\u001B[31mModuleNotFoundError\u001B[39m: No module named 'numpy'"
     ]
    }
   ],
   "execution_count": 9
  },
  {
   "metadata": {
    "ExecuteTime": {
     "end_time": "2025-09-20T15:15:05.711978Z",
     "start_time": "2025-09-20T15:15:05.692690Z"
    }
   },
   "cell_type": "code",
   "source": "pd.__version__",
   "id": "78b3218a8309094b",
   "outputs": [
    {
     "data": {
      "text/plain": [
       "'2.3.2'"
      ]
     },
     "execution_count": 7,
     "metadata": {},
     "output_type": "execute_result"
    }
   ],
   "execution_count": 7
  },
  {
   "metadata": {
    "ExecuteTime": {
     "end_time": "2025-09-20T17:04:29.714709Z",
     "start_time": "2025-09-20T17:04:29.297655Z"
    }
   },
   "cell_type": "code",
   "source": "fn = wget.download('https://raw.githubusercontent.com/alexeygrigorev/datasets/master/car_fuel_efficiency.csv')",
   "id": "7e6e625aea5e4199",
   "outputs": [],
   "execution_count": 10
  },
  {
   "metadata": {
    "ExecuteTime": {
     "end_time": "2025-09-20T17:04:55.308146Z",
     "start_time": "2025-09-20T17:04:55.285736Z"
    }
   },
   "cell_type": "code",
   "source": "fn",
   "id": "a34cdb294bdc5039",
   "outputs": [
    {
     "data": {
      "text/plain": [
       "'car_fuel_efficiency (1).csv'"
      ]
     },
     "execution_count": 11,
     "metadata": {},
     "output_type": "execute_result"
    }
   ],
   "execution_count": 11
  },
  {
   "metadata": {
    "ExecuteTime": {
     "end_time": "2025-09-20T17:03:44.562498Z",
     "start_time": "2025-09-20T17:03:44.457886Z"
    }
   },
   "cell_type": "code",
   "source": "df = pd.read_csv(fn)",
   "id": "fbeed92e907f337b",
   "outputs": [
    {
     "ename": "NameError",
     "evalue": "name 'pd' is not defined",
     "output_type": "error",
     "traceback": [
      "\u001B[31m---------------------------------------------------------------------------\u001B[39m",
      "\u001B[31mNameError\u001B[39m                                 Traceback (most recent call last)",
      "\u001B[36mCell\u001B[39m\u001B[36m \u001B[39m\u001B[32mIn[8]\u001B[39m\u001B[32m, line 1\u001B[39m\n\u001B[32m----> \u001B[39m\u001B[32m1\u001B[39m df = \u001B[43mpd\u001B[49m.read_csv(fn)\n",
      "\u001B[31mNameError\u001B[39m: name 'pd' is not defined"
     ]
    }
   ],
   "execution_count": 8
  },
  {
   "metadata": {
    "ExecuteTime": {
     "end_time": "2025-09-20T15:34:06.702859Z",
     "start_time": "2025-09-20T15:34:06.683029Z"
    }
   },
   "cell_type": "code",
   "source": "df",
   "id": "8c10fe0d4e0c3263",
   "outputs": [
    {
     "data": {
      "text/plain": [
       "      engine_displacement  num_cylinders  horsepower  vehicle_weight  \\\n",
       "0                     170            3.0       159.0     3413.433759   \n",
       "1                     130            5.0        97.0     3149.664934   \n",
       "2                     170            NaN        78.0     3079.038997   \n",
       "3                     220            4.0         NaN     2542.392402   \n",
       "4                     210            1.0       140.0     3460.870990   \n",
       "...                   ...            ...         ...             ...   \n",
       "9699                  140            5.0       164.0     2981.107371   \n",
       "9700                  180            NaN       154.0     2439.525729   \n",
       "9701                  220            2.0       138.0     2583.471318   \n",
       "9702                  230            4.0       177.0     2905.527390   \n",
       "9703                  270            3.0       140.0     2908.043477   \n",
       "\n",
       "      acceleration  model_year  origin fuel_type         drivetrain  \\\n",
       "0             17.7        2003  Europe  Gasoline    All-wheel drive   \n",
       "1             17.8        2007     USA  Gasoline  Front-wheel drive   \n",
       "2             15.1        2018  Europe  Gasoline  Front-wheel drive   \n",
       "3             20.2        2009     USA    Diesel    All-wheel drive   \n",
       "4             14.4        2009  Europe  Gasoline    All-wheel drive   \n",
       "...            ...         ...     ...       ...                ...   \n",
       "9699          17.3        2013  Europe    Diesel  Front-wheel drive   \n",
       "9700          15.0        2004     USA  Gasoline    All-wheel drive   \n",
       "9701          15.1        2008     USA    Diesel    All-wheel drive   \n",
       "9702          19.4        2011     USA    Diesel  Front-wheel drive   \n",
       "9703          14.7        2005    Asia    Diesel    All-wheel drive   \n",
       "\n",
       "      num_doors  fuel_efficiency_mpg  \n",
       "0           0.0            13.231729  \n",
       "1           0.0            13.688217  \n",
       "2           0.0            14.246341  \n",
       "3           2.0            16.912736  \n",
       "4           2.0            12.488369  \n",
       "...         ...                  ...  \n",
       "9699        NaN            15.101802  \n",
       "9700        0.0            17.962326  \n",
       "9701       -1.0            17.186587  \n",
       "9702        1.0            15.331551  \n",
       "9703       -1.0            14.884467  \n",
       "\n",
       "[9704 rows x 11 columns]"
      ],
      "text/html": [
       "<div>\n",
       "<style scoped>\n",
       "    .dataframe tbody tr th:only-of-type {\n",
       "        vertical-align: middle;\n",
       "    }\n",
       "\n",
       "    .dataframe tbody tr th {\n",
       "        vertical-align: top;\n",
       "    }\n",
       "\n",
       "    .dataframe thead th {\n",
       "        text-align: right;\n",
       "    }\n",
       "</style>\n",
       "<table border=\"1\" class=\"dataframe\">\n",
       "  <thead>\n",
       "    <tr style=\"text-align: right;\">\n",
       "      <th></th>\n",
       "      <th>engine_displacement</th>\n",
       "      <th>num_cylinders</th>\n",
       "      <th>horsepower</th>\n",
       "      <th>vehicle_weight</th>\n",
       "      <th>acceleration</th>\n",
       "      <th>model_year</th>\n",
       "      <th>origin</th>\n",
       "      <th>fuel_type</th>\n",
       "      <th>drivetrain</th>\n",
       "      <th>num_doors</th>\n",
       "      <th>fuel_efficiency_mpg</th>\n",
       "    </tr>\n",
       "  </thead>\n",
       "  <tbody>\n",
       "    <tr>\n",
       "      <th>0</th>\n",
       "      <td>170</td>\n",
       "      <td>3.0</td>\n",
       "      <td>159.0</td>\n",
       "      <td>3413.433759</td>\n",
       "      <td>17.7</td>\n",
       "      <td>2003</td>\n",
       "      <td>Europe</td>\n",
       "      <td>Gasoline</td>\n",
       "      <td>All-wheel drive</td>\n",
       "      <td>0.0</td>\n",
       "      <td>13.231729</td>\n",
       "    </tr>\n",
       "    <tr>\n",
       "      <th>1</th>\n",
       "      <td>130</td>\n",
       "      <td>5.0</td>\n",
       "      <td>97.0</td>\n",
       "      <td>3149.664934</td>\n",
       "      <td>17.8</td>\n",
       "      <td>2007</td>\n",
       "      <td>USA</td>\n",
       "      <td>Gasoline</td>\n",
       "      <td>Front-wheel drive</td>\n",
       "      <td>0.0</td>\n",
       "      <td>13.688217</td>\n",
       "    </tr>\n",
       "    <tr>\n",
       "      <th>2</th>\n",
       "      <td>170</td>\n",
       "      <td>NaN</td>\n",
       "      <td>78.0</td>\n",
       "      <td>3079.038997</td>\n",
       "      <td>15.1</td>\n",
       "      <td>2018</td>\n",
       "      <td>Europe</td>\n",
       "      <td>Gasoline</td>\n",
       "      <td>Front-wheel drive</td>\n",
       "      <td>0.0</td>\n",
       "      <td>14.246341</td>\n",
       "    </tr>\n",
       "    <tr>\n",
       "      <th>3</th>\n",
       "      <td>220</td>\n",
       "      <td>4.0</td>\n",
       "      <td>NaN</td>\n",
       "      <td>2542.392402</td>\n",
       "      <td>20.2</td>\n",
       "      <td>2009</td>\n",
       "      <td>USA</td>\n",
       "      <td>Diesel</td>\n",
       "      <td>All-wheel drive</td>\n",
       "      <td>2.0</td>\n",
       "      <td>16.912736</td>\n",
       "    </tr>\n",
       "    <tr>\n",
       "      <th>4</th>\n",
       "      <td>210</td>\n",
       "      <td>1.0</td>\n",
       "      <td>140.0</td>\n",
       "      <td>3460.870990</td>\n",
       "      <td>14.4</td>\n",
       "      <td>2009</td>\n",
       "      <td>Europe</td>\n",
       "      <td>Gasoline</td>\n",
       "      <td>All-wheel drive</td>\n",
       "      <td>2.0</td>\n",
       "      <td>12.488369</td>\n",
       "    </tr>\n",
       "    <tr>\n",
       "      <th>...</th>\n",
       "      <td>...</td>\n",
       "      <td>...</td>\n",
       "      <td>...</td>\n",
       "      <td>...</td>\n",
       "      <td>...</td>\n",
       "      <td>...</td>\n",
       "      <td>...</td>\n",
       "      <td>...</td>\n",
       "      <td>...</td>\n",
       "      <td>...</td>\n",
       "      <td>...</td>\n",
       "    </tr>\n",
       "    <tr>\n",
       "      <th>9699</th>\n",
       "      <td>140</td>\n",
       "      <td>5.0</td>\n",
       "      <td>164.0</td>\n",
       "      <td>2981.107371</td>\n",
       "      <td>17.3</td>\n",
       "      <td>2013</td>\n",
       "      <td>Europe</td>\n",
       "      <td>Diesel</td>\n",
       "      <td>Front-wheel drive</td>\n",
       "      <td>NaN</td>\n",
       "      <td>15.101802</td>\n",
       "    </tr>\n",
       "    <tr>\n",
       "      <th>9700</th>\n",
       "      <td>180</td>\n",
       "      <td>NaN</td>\n",
       "      <td>154.0</td>\n",
       "      <td>2439.525729</td>\n",
       "      <td>15.0</td>\n",
       "      <td>2004</td>\n",
       "      <td>USA</td>\n",
       "      <td>Gasoline</td>\n",
       "      <td>All-wheel drive</td>\n",
       "      <td>0.0</td>\n",
       "      <td>17.962326</td>\n",
       "    </tr>\n",
       "    <tr>\n",
       "      <th>9701</th>\n",
       "      <td>220</td>\n",
       "      <td>2.0</td>\n",
       "      <td>138.0</td>\n",
       "      <td>2583.471318</td>\n",
       "      <td>15.1</td>\n",
       "      <td>2008</td>\n",
       "      <td>USA</td>\n",
       "      <td>Diesel</td>\n",
       "      <td>All-wheel drive</td>\n",
       "      <td>-1.0</td>\n",
       "      <td>17.186587</td>\n",
       "    </tr>\n",
       "    <tr>\n",
       "      <th>9702</th>\n",
       "      <td>230</td>\n",
       "      <td>4.0</td>\n",
       "      <td>177.0</td>\n",
       "      <td>2905.527390</td>\n",
       "      <td>19.4</td>\n",
       "      <td>2011</td>\n",
       "      <td>USA</td>\n",
       "      <td>Diesel</td>\n",
       "      <td>Front-wheel drive</td>\n",
       "      <td>1.0</td>\n",
       "      <td>15.331551</td>\n",
       "    </tr>\n",
       "    <tr>\n",
       "      <th>9703</th>\n",
       "      <td>270</td>\n",
       "      <td>3.0</td>\n",
       "      <td>140.0</td>\n",
       "      <td>2908.043477</td>\n",
       "      <td>14.7</td>\n",
       "      <td>2005</td>\n",
       "      <td>Asia</td>\n",
       "      <td>Diesel</td>\n",
       "      <td>All-wheel drive</td>\n",
       "      <td>-1.0</td>\n",
       "      <td>14.884467</td>\n",
       "    </tr>\n",
       "  </tbody>\n",
       "</table>\n",
       "<p>9704 rows × 11 columns</p>\n",
       "</div>"
      ]
     },
     "execution_count": 49,
     "metadata": {},
     "output_type": "execute_result"
    }
   ],
   "execution_count": 49
  },
  {
   "metadata": {
    "ExecuteTime": {
     "end_time": "2025-09-20T15:34:42.375340Z",
     "start_time": "2025-09-20T15:34:42.370345Z"
    }
   },
   "cell_type": "code",
   "source": "df.shape",
   "id": "962b2f7a910ed944",
   "outputs": [
    {
     "data": {
      "text/plain": [
       "(9704, 11)"
      ]
     },
     "execution_count": 51,
     "metadata": {},
     "output_type": "execute_result"
    }
   ],
   "execution_count": 51
  },
  {
   "metadata": {
    "ExecuteTime": {
     "end_time": "2025-09-20T15:36:11.804129Z",
     "start_time": "2025-09-20T15:36:11.798063Z"
    }
   },
   "cell_type": "code",
   "source": "df['fuel_type'].unique().size",
   "id": "8babb828e0938932",
   "outputs": [
    {
     "data": {
      "text/plain": [
       "2"
      ]
     },
     "execution_count": 56,
     "metadata": {},
     "output_type": "execute_result"
    }
   ],
   "execution_count": 56
  },
  {
   "metadata": {
    "ExecuteTime": {
     "end_time": "2025-09-20T15:57:09.204383Z",
     "start_time": "2025-09-20T15:57:09.194415Z"
    }
   },
   "cell_type": "code",
   "source": "df.isnull().sum()",
   "id": "fed0786fa1d06655",
   "outputs": [
    {
     "data": {
      "text/plain": [
       "engine_displacement      0\n",
       "num_cylinders          482\n",
       "horsepower             708\n",
       "vehicle_weight           0\n",
       "acceleration           930\n",
       "model_year               0\n",
       "origin                   0\n",
       "fuel_type                0\n",
       "drivetrain               0\n",
       "num_doors              502\n",
       "fuel_efficiency_mpg      0\n",
       "dtype: int64"
      ]
     },
     "execution_count": 83,
     "metadata": {},
     "output_type": "execute_result"
    }
   ],
   "execution_count": 83
  },
  {
   "metadata": {
    "ExecuteTime": {
     "end_time": "2025-09-20T15:46:01.411724Z",
     "start_time": "2025-09-20T15:46:01.404160Z"
    }
   },
   "cell_type": "code",
   "source": "df.groupby('origin').fuel_efficiency_mpg.max()",
   "id": "acd1b9a62c5b63a6",
   "outputs": [
    {
     "data": {
      "text/plain": [
       "origin\n",
       "Asia      23.759123\n",
       "Europe    25.967222\n",
       "USA       24.971452\n",
       "Name: fuel_efficiency_mpg, dtype: float64"
      ]
     },
     "execution_count": 64,
     "metadata": {},
     "output_type": "execute_result"
    }
   ],
   "execution_count": 64
  },
  {
   "metadata": {
    "ExecuteTime": {
     "end_time": "2025-09-20T15:48:52.815547Z",
     "start_time": "2025-09-20T15:48:52.810690Z"
    }
   },
   "cell_type": "code",
   "source": "median_old = df.horsepower.median()",
   "id": "55e0b240045e1c2c",
   "outputs": [],
   "execution_count": 71
  },
  {
   "metadata": {
    "ExecuteTime": {
     "end_time": "2025-09-20T16:01:00.524089Z",
     "start_time": "2025-09-20T16:01:00.512430Z"
    }
   },
   "cell_type": "code",
   "source": [
    "mode = df.horsepower.mode()\n",
    "mode\n",
    "type(mode)\n",
    "mode = int(mode)\n",
    "mode"
   ],
   "id": "743845d2401b2fd4",
   "outputs": [
    {
     "name": "stderr",
     "output_type": "stream",
     "text": [
      "C:\\Users\\matte\\AppData\\Local\\Temp\\ipykernel_2948\\3561727821.py:4: FutureWarning: Calling int on a single element Series is deprecated and will raise a TypeError in the future. Use int(ser.iloc[0]) instead\n",
      "  mode = int(mode)\n"
     ]
    },
    {
     "data": {
      "text/plain": [
       "152"
      ]
     },
     "execution_count": 93,
     "metadata": {},
     "output_type": "execute_result"
    }
   ],
   "execution_count": 93
  },
  {
   "metadata": {
    "ExecuteTime": {
     "end_time": "2025-09-20T15:59:56.039630Z",
     "start_time": "2025-09-20T15:59:56.035005Z"
    }
   },
   "cell_type": "code",
   "source": "df['horsepower'] = df['horsepower'].fillna(152)",
   "id": "98419770bf0e1ae0",
   "outputs": [],
   "execution_count": 89
  },
  {
   "metadata": {
    "ExecuteTime": {
     "end_time": "2025-09-20T16:01:19.556185Z",
     "start_time": "2025-09-20T16:01:19.549487Z"
    }
   },
   "cell_type": "code",
   "source": "df.horsepower",
   "id": "ed4f04c87d813a11",
   "outputs": [
    {
     "data": {
      "text/plain": [
       "0       159.0\n",
       "1        97.0\n",
       "2        78.0\n",
       "3       152.0\n",
       "4       140.0\n",
       "        ...  \n",
       "9699    164.0\n",
       "9700    154.0\n",
       "9701    138.0\n",
       "9702    177.0\n",
       "9703    140.0\n",
       "Name: horsepower, Length: 9704, dtype: float64"
      ]
     },
     "execution_count": 94,
     "metadata": {},
     "output_type": "execute_result"
    }
   ],
   "execution_count": 94
  },
  {
   "metadata": {
    "ExecuteTime": {
     "end_time": "2025-09-20T16:02:01.910598Z",
     "start_time": "2025-09-20T16:02:01.906434Z"
    }
   },
   "cell_type": "code",
   "source": "median_new = df.horsepower.median()",
   "id": "128a586d2e89c078",
   "outputs": [],
   "execution_count": 98
  },
  {
   "metadata": {
    "ExecuteTime": {
     "end_time": "2025-09-20T16:02:20.201880Z",
     "start_time": "2025-09-20T16:02:20.197Z"
    }
   },
   "cell_type": "code",
   "source": "median_new",
   "id": "ed1363ccc5053d63",
   "outputs": [
    {
     "data": {
      "text/plain": [
       "np.float64(152.0)"
      ]
     },
     "execution_count": 100,
     "metadata": {},
     "output_type": "execute_result"
    }
   ],
   "execution_count": 100
  },
  {
   "metadata": {
    "ExecuteTime": {
     "end_time": "2025-09-20T16:04:11.993194Z",
     "start_time": "2025-09-20T16:04:11.987914Z"
    }
   },
   "cell_type": "code",
   "source": "median_old",
   "id": "a10d2bb566bcdfc9",
   "outputs": [
    {
     "data": {
      "text/plain": [
       "np.float64(149.0)"
      ]
     },
     "execution_count": 102,
     "metadata": {},
     "output_type": "execute_result"
    }
   ],
   "execution_count": 102
  },
  {
   "metadata": {
    "ExecuteTime": {
     "end_time": "2025-09-20T16:15:45.464780Z",
     "start_time": "2025-09-20T16:15:45.458604Z"
    }
   },
   "cell_type": "code",
   "source": [
    "df = df[\n",
    "    df['origin'] == 'Asia'\n",
    "]"
   ],
   "id": "c0149944f217b2c8",
   "outputs": [],
   "execution_count": 118
  },
  {
   "metadata": {
    "ExecuteTime": {
     "end_time": "2025-09-20T16:15:58.669341Z",
     "start_time": "2025-09-20T16:15:58.661826Z"
    }
   },
   "cell_type": "code",
   "source": "df = df[['vehicle_weight', 'model_year']]",
   "id": "2a26753d25b1b478",
   "outputs": [],
   "execution_count": 120
  },
  {
   "metadata": {
    "ExecuteTime": {
     "end_time": "2025-09-20T16:16:14.993419Z",
     "start_time": "2025-09-20T16:16:14.983521Z"
    }
   },
   "cell_type": "code",
   "source": "df",
   "id": "4a62665331560f54",
   "outputs": [
    {
     "data": {
      "text/plain": [
       "      vehicle_weight  model_year\n",
       "8        2714.219310        2016\n",
       "12       2783.868974        2010\n",
       "14       3582.687368        2007\n",
       "20       2231.808142        2011\n",
       "21       2659.431451        2016\n",
       "...              ...         ...\n",
       "9688     3948.404625        2018\n",
       "9692     3680.341381        2016\n",
       "9693     2545.070139        2012\n",
       "9698     3107.427820        2005\n",
       "9703     2908.043477        2005\n",
       "\n",
       "[3247 rows x 2 columns]"
      ],
      "text/html": [
       "<div>\n",
       "<style scoped>\n",
       "    .dataframe tbody tr th:only-of-type {\n",
       "        vertical-align: middle;\n",
       "    }\n",
       "\n",
       "    .dataframe tbody tr th {\n",
       "        vertical-align: top;\n",
       "    }\n",
       "\n",
       "    .dataframe thead th {\n",
       "        text-align: right;\n",
       "    }\n",
       "</style>\n",
       "<table border=\"1\" class=\"dataframe\">\n",
       "  <thead>\n",
       "    <tr style=\"text-align: right;\">\n",
       "      <th></th>\n",
       "      <th>vehicle_weight</th>\n",
       "      <th>model_year</th>\n",
       "    </tr>\n",
       "  </thead>\n",
       "  <tbody>\n",
       "    <tr>\n",
       "      <th>8</th>\n",
       "      <td>2714.219310</td>\n",
       "      <td>2016</td>\n",
       "    </tr>\n",
       "    <tr>\n",
       "      <th>12</th>\n",
       "      <td>2783.868974</td>\n",
       "      <td>2010</td>\n",
       "    </tr>\n",
       "    <tr>\n",
       "      <th>14</th>\n",
       "      <td>3582.687368</td>\n",
       "      <td>2007</td>\n",
       "    </tr>\n",
       "    <tr>\n",
       "      <th>20</th>\n",
       "      <td>2231.808142</td>\n",
       "      <td>2011</td>\n",
       "    </tr>\n",
       "    <tr>\n",
       "      <th>21</th>\n",
       "      <td>2659.431451</td>\n",
       "      <td>2016</td>\n",
       "    </tr>\n",
       "    <tr>\n",
       "      <th>...</th>\n",
       "      <td>...</td>\n",
       "      <td>...</td>\n",
       "    </tr>\n",
       "    <tr>\n",
       "      <th>9688</th>\n",
       "      <td>3948.404625</td>\n",
       "      <td>2018</td>\n",
       "    </tr>\n",
       "    <tr>\n",
       "      <th>9692</th>\n",
       "      <td>3680.341381</td>\n",
       "      <td>2016</td>\n",
       "    </tr>\n",
       "    <tr>\n",
       "      <th>9693</th>\n",
       "      <td>2545.070139</td>\n",
       "      <td>2012</td>\n",
       "    </tr>\n",
       "    <tr>\n",
       "      <th>9698</th>\n",
       "      <td>3107.427820</td>\n",
       "      <td>2005</td>\n",
       "    </tr>\n",
       "    <tr>\n",
       "      <th>9703</th>\n",
       "      <td>2908.043477</td>\n",
       "      <td>2005</td>\n",
       "    </tr>\n",
       "  </tbody>\n",
       "</table>\n",
       "<p>3247 rows × 2 columns</p>\n",
       "</div>"
      ]
     },
     "execution_count": 122,
     "metadata": {},
     "output_type": "execute_result"
    }
   ],
   "execution_count": 122
  },
  {
   "metadata": {
    "ExecuteTime": {
     "end_time": "2025-09-20T16:31:59.130557Z",
     "start_time": "2025-09-20T16:31:59.120870Z"
    }
   },
   "cell_type": "code",
   "source": [
    "x = df.head(7)\n",
    "x"
   ],
   "id": "677b780eea258152",
   "outputs": [
    {
     "data": {
      "text/plain": [
       "    vehicle_weight  model_year\n",
       "8      2714.219310        2016\n",
       "12     2783.868974        2010\n",
       "14     3582.687368        2007\n",
       "20     2231.808142        2011\n",
       "21     2659.431451        2016\n",
       "34     2844.227534        2014\n",
       "38     3761.994038        2019"
      ],
      "text/html": [
       "<div>\n",
       "<style scoped>\n",
       "    .dataframe tbody tr th:only-of-type {\n",
       "        vertical-align: middle;\n",
       "    }\n",
       "\n",
       "    .dataframe tbody tr th {\n",
       "        vertical-align: top;\n",
       "    }\n",
       "\n",
       "    .dataframe thead th {\n",
       "        text-align: right;\n",
       "    }\n",
       "</style>\n",
       "<table border=\"1\" class=\"dataframe\">\n",
       "  <thead>\n",
       "    <tr style=\"text-align: right;\">\n",
       "      <th></th>\n",
       "      <th>vehicle_weight</th>\n",
       "      <th>model_year</th>\n",
       "    </tr>\n",
       "  </thead>\n",
       "  <tbody>\n",
       "    <tr>\n",
       "      <th>8</th>\n",
       "      <td>2714.219310</td>\n",
       "      <td>2016</td>\n",
       "    </tr>\n",
       "    <tr>\n",
       "      <th>12</th>\n",
       "      <td>2783.868974</td>\n",
       "      <td>2010</td>\n",
       "    </tr>\n",
       "    <tr>\n",
       "      <th>14</th>\n",
       "      <td>3582.687368</td>\n",
       "      <td>2007</td>\n",
       "    </tr>\n",
       "    <tr>\n",
       "      <th>20</th>\n",
       "      <td>2231.808142</td>\n",
       "      <td>2011</td>\n",
       "    </tr>\n",
       "    <tr>\n",
       "      <th>21</th>\n",
       "      <td>2659.431451</td>\n",
       "      <td>2016</td>\n",
       "    </tr>\n",
       "    <tr>\n",
       "      <th>34</th>\n",
       "      <td>2844.227534</td>\n",
       "      <td>2014</td>\n",
       "    </tr>\n",
       "    <tr>\n",
       "      <th>38</th>\n",
       "      <td>3761.994038</td>\n",
       "      <td>2019</td>\n",
       "    </tr>\n",
       "  </tbody>\n",
       "</table>\n",
       "</div>"
      ]
     },
     "execution_count": 159,
     "metadata": {},
     "output_type": "execute_result"
    }
   ],
   "execution_count": 159
  },
  {
   "metadata": {
    "ExecuteTime": {
     "end_time": "2025-09-20T16:32:03.246109Z",
     "start_time": "2025-09-20T16:32:03.240157Z"
    }
   },
   "cell_type": "code",
   "source": [
    "X = x.values\n",
    "X"
   ],
   "id": "343069af4b68cc28",
   "outputs": [
    {
     "data": {
      "text/plain": [
       "array([[2714.21930965, 2016.        ],\n",
       "       [2783.86897424, 2010.        ],\n",
       "       [3582.68736772, 2007.        ],\n",
       "       [2231.8081416 , 2011.        ],\n",
       "       [2659.43145076, 2016.        ],\n",
       "       [2844.22753389, 2014.        ],\n",
       "       [3761.99403819, 2019.        ]])"
      ]
     },
     "execution_count": 160,
     "metadata": {},
     "output_type": "execute_result"
    }
   ],
   "execution_count": 160
  },
  {
   "metadata": {
    "ExecuteTime": {
     "end_time": "2025-09-20T16:32:43.437262Z",
     "start_time": "2025-09-20T16:32:43.431616Z"
    }
   },
   "cell_type": "code",
   "source": [
    "XT = X.T\n",
    "XTX = X.dot(XT)\n",
    "XTX"
   ],
   "id": "6eba7737538167b",
   "outputs": [
    {
     "data": {
      "text/plain": [
       "array([[11431242.46085133, 11608190.92541486, 13770311.23387465,\n",
       "        10111792.75336224, 11282536.19632532, 11780081.29349753,\n",
       "        14281180.86123177],\n",
       "       [11608190.92541486, 11790026.46575708, 14007802.20739725,\n",
       "        10255171.44187306, 11455668.70489329, 11966096.78727446,\n",
       "        14531088.48421337],\n",
       "       [13770311.23387465, 14007802.20739725, 16863697.77478558,\n",
       "        12031947.83608462, 13574023.463935  , 14232076.05656009,\n",
       "        17530181.51805091],\n",
       "       [10111792.75336224, 10255171.44187306, 12031947.83608462,\n",
       "         9025088.58092514,  9989516.7638366 , 10397924.16669749,\n",
       "        12456257.9230991 ],\n",
       "       [11282536.19632532, 11455668.70489329, 13574023.463935  ,\n",
       "         9989516.7638366 , 11136831.64128077, 11624252.15672766,\n",
       "        14075069.26273247],\n",
       "       [11780081.29349753, 11966096.78727446, 14232076.05656009,\n",
       "        10397924.16669749, 11624252.15672766, 12145826.2645139 ,\n",
       "        14766233.02574041],\n",
       "       [14281180.86123177, 14531088.48421337, 17530181.51805091,\n",
       "        12456257.9230991 , 14075069.26273247, 14766233.02574041,\n",
       "        18228960.14339381]])"
      ]
     },
     "execution_count": 164,
     "metadata": {},
     "output_type": "execute_result"
    }
   ],
   "execution_count": 164
  },
  {
   "metadata": {
    "ExecuteTime": {
     "end_time": "2025-09-20T16:32:49.601522Z",
     "start_time": "2025-09-20T16:32:49.595734Z"
    }
   },
   "cell_type": "code",
   "source": [
    "XTX_1 = np.linalg.inv(XTX)\n",
    "XTX_1"
   ],
   "id": "9e7a660f936d6270",
   "outputs": [
    {
     "data": {
      "text/plain": [
       "array([[ 6.27784782e+08,  4.52348582e+08, -5.52589667e+08,\n",
       "        -5.04518657e+08, -1.36497506e+08, -9.70745174e+07,\n",
       "         2.07769569e+08],\n",
       "       [ 6.52427761e+08,  1.18496810e+09, -8.15933475e+08,\n",
       "        -7.54720098e+08, -7.08834488e+08,  2.53306835e+08,\n",
       "         1.86771033e+08],\n",
       "       [-4.82034184e+08, -5.85397198e+08,  3.79915957e+08,\n",
       "         6.66310906e+08,  1.18051009e+08, -1.47095872e+08,\n",
       "         5.16329750e+07],\n",
       "       [-4.86725764e+08, -5.86851309e+08,  7.06448581e+08,\n",
       "         6.82137781e+08,  2.06347119e+08, -3.29606193e+08,\n",
       "        -1.88697388e+08],\n",
       "       [-2.37576087e+08, -7.37561522e+08,  2.26902495e+08,\n",
       "         2.89910408e+08,  1.50145296e+08,  3.48995157e+08,\n",
       "        -4.08718420e+07],\n",
       "       [-2.28618838e+08,  1.97697960e+08, -2.05812130e+07,\n",
       "        -2.25519129e+08,  3.60824331e+08, -2.92220029e+06,\n",
       "        -8.08263491e+07],\n",
       "       [ 1.52870693e+08,  7.43387198e+07,  7.67225188e+07,\n",
       "        -1.51179749e+08,  9.23761238e+06, -2.62872552e+07,\n",
       "        -1.35338415e+08]])"
      ]
     },
     "execution_count": 166,
     "metadata": {},
     "output_type": "execute_result"
    }
   ],
   "execution_count": 166
  },
  {
   "metadata": {
    "ExecuteTime": {
     "end_time": "2025-09-20T16:22:55.674166Z",
     "start_time": "2025-09-20T16:22:55.668679Z"
    }
   },
   "cell_type": "code",
   "source": [
    "y = np.array([1100, 1300, 800, 900, 1000, 1100, 1200])\n",
    "y"
   ],
   "id": "c473187a4b94f9e4",
   "outputs": [
    {
     "data": {
      "text/plain": [
       "array([1100, 1300,  800,  900, 1000, 1100, 1200])"
      ]
     },
     "execution_count": 140,
     "metadata": {},
     "output_type": "execute_result"
    }
   ],
   "execution_count": 140
  },
  {
   "metadata": {
    "ExecuteTime": {
     "end_time": "2025-09-20T16:37:45.307967Z",
     "start_time": "2025-09-20T16:37:45.299685Z"
    }
   },
   "cell_type": "code",
   "source": [
    "w = XT.dot(XTX_1).dot(y)\n",
    "w"
   ],
   "id": "99963c8a14e6a402",
   "outputs": [
    {
     "data": {
      "text/plain": [
       "array([ 0.71258545, -0.23193359])"
      ]
     },
     "execution_count": 176,
     "metadata": {},
     "output_type": "execute_result"
    }
   ],
   "execution_count": 176
  },
  {
   "metadata": {
    "ExecuteTime": {
     "end_time": "2025-09-20T16:37:47.281748Z",
     "start_time": "2025-09-20T16:37:47.275924Z"
    }
   },
   "cell_type": "code",
   "source": "w.sum()",
   "id": "3770a60249d59924",
   "outputs": [
    {
     "data": {
      "text/plain": [
       "np.float64(0.48065185546875)"
      ]
     },
     "execution_count": 177,
     "metadata": {},
     "output_type": "execute_result"
    }
   ],
   "execution_count": 177
  }
 ],
 "metadata": {
  "kernelspec": {
   "display_name": "Python 3",
   "language": "python",
   "name": "python3"
  },
  "language_info": {
   "codemirror_mode": {
    "name": "ipython",
    "version": 2
   },
   "file_extension": ".py",
   "mimetype": "text/x-python",
   "name": "python",
   "nbconvert_exporter": "python",
   "pygments_lexer": "ipython2",
   "version": "2.7.6"
  }
 },
 "nbformat": 4,
 "nbformat_minor": 5
}
